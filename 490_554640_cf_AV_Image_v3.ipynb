{
  "nbformat": 4,
  "nbformat_minor": 0,
  "metadata": {
    "colab": {
      "name": "AV Image_v3.ipynb",
      "version": "0.3.2",
      "provenance": [],
      "collapsed_sections": []
    },
    "kernelspec": {
      "name": "python3",
      "display_name": "Python 3"
    },
    "accelerator": "GPU"
  },
  "cells": [
    {
      "cell_type": "code",
      "metadata": {
        "id": "CI77H-351sNV",
        "colab_type": "code",
        "outputId": "82e9ddb2-5ba0-4831-beeb-e215863f5193",
        "colab": {
          "base_uri": "https://localhost:8080/",
          "height": 35
        }
      },
      "source": [
        "from sklearn.model_selection import train_test_split\n",
        "from keras.layers import Dense, Dropout, Flatten, GlobalAveragePooling2D\n",
        "from keras.layers import Conv2D, MaxPooling2D\n",
        "from keras.utils import to_categorical\n",
        "from keras.preprocessing import image\n",
        "from keras.models import Sequential\n",
        "import matplotlib.pyplot as plt\n",
        "import tensorflow as tf\n",
        "from tqdm import tqdm\n",
        "import pandas as pd\n",
        "import numpy as np\n",
        "import keras"
      ],
      "execution_count": 1,
      "outputs": [
        {
          "output_type": "stream",
          "text": [
            "Using TensorFlow backend.\n"
          ],
          "name": "stderr"
        }
      ]
    },
    {
      "cell_type": "code",
      "metadata": {
        "id": "a5fAdRy6OS0i",
        "colab_type": "code",
        "colab": {}
      },
      "source": [
        "train = pd.read_csv('train.csv')\n",
        "test  = pd.read_csv('test_ApKoW4T.csv')"
      ],
      "execution_count": 0,
      "outputs": []
    },
    {
      "cell_type": "code",
      "metadata": {
        "id": "FlZWiWQTprjq",
        "colab_type": "code",
        "colab": {}
      },
      "source": [
        "test1 =test.copy()"
      ],
      "execution_count": 0,
      "outputs": []
    },
    {
      "cell_type": "code",
      "metadata": {
        "id": "nWKD6NafOwDX",
        "colab_type": "code",
        "outputId": "f62c92d8-e908-4931-b9f3-19f76509507b",
        "colab": {
          "base_uri": "https://localhost:8080/",
          "height": 35
        }
      },
      "source": [
        "# Reading the training set images\n",
        "train_image = []\n",
        "for i in tqdm(range(train.shape[0])):\n",
        "    img = image.load_img('./images/'+train.image[i], target_size=(160,160,3), grayscale=False)\n",
        "    img = image.img_to_array(img)\n",
        "    img = img/255\n",
        "    train_image.append(img)"
      ],
      "execution_count": 4,
      "outputs": [
        {
          "output_type": "stream",
          "text": [
            "100%|██████████| 6252/6252 [00:06<00:00, 933.34it/s]\n"
          ],
          "name": "stderr"
        }
      ]
    },
    {
      "cell_type": "code",
      "metadata": {
        "id": "b-ozpbDRpbNs",
        "colab_type": "code",
        "outputId": "223e553d-1347-48a3-c118-d879ab81276e",
        "colab": {
          "base_uri": "https://localhost:8080/",
          "height": 35
        }
      },
      "source": [
        "# Reading the test set images\n",
        "\n",
        "test_image = []\n",
        "for i in tqdm(range(test.shape[0])):\n",
        "    img = image.load_img('./images/'+test.image[i], target_size=(160,160,3), grayscale=False)\n",
        "    img = image.img_to_array(img)\n",
        "    img = img/255\n",
        "    test_image.append(img)\n",
        "test = np.array(test_image)"
      ],
      "execution_count": 5,
      "outputs": [
        {
          "output_type": "stream",
          "text": [
            "100%|██████████| 2680/2680 [00:02<00:00, 941.10it/s]\n"
          ],
          "name": "stderr"
        }
      ]
    },
    {
      "cell_type": "code",
      "metadata": {
        "id": "tgGMhQrVOwAP",
        "colab_type": "code",
        "colab": {}
      },
      "source": [
        "# Input Variable\n",
        "X = np.array(train_image)\n",
        "\n",
        "# Creating the target variable\n",
        "y=train['category'].values\n",
        "y = to_categorical(y)\n"
      ],
      "execution_count": 0,
      "outputs": []
    },
    {
      "cell_type": "code",
      "metadata": {
        "id": "t7JbFB-KOv8s",
        "colab_type": "code",
        "colab": {}
      },
      "source": [
        "X_train, X_test, y_train, y_test = train_test_split(X, y, random_state=123, test_size=0.2)"
      ],
      "execution_count": 0,
      "outputs": []
    },
    {
      "cell_type": "code",
      "metadata": {
        "id": "BJ9hjrY9Ov1P",
        "colab_type": "code",
        "colab": {}
      },
      "source": [
        "model = Sequential()\n",
        "\n",
        "model.add(Conv2D(160, kernel_size=(3, 3),activation='relu',input_shape=(160,160,3)))\n",
        "model.add(MaxPooling2D(pool_size=(2, 2)))\n",
        "\n",
        "model.add(Conv2D(80, (3, 3), activation='relu'))\n",
        "model.add(MaxPooling2D(pool_size=(2, 2)))\n",
        "\n",
        "model.add(Conv2D(64, (3, 3), activation='relu'))\n",
        "model.add(MaxPooling2D(pool_size=(2, 2)))\n",
        "\n",
        "model.add(Conv2D(32, (3, 3), activation='relu'))\n",
        "model.add(MaxPooling2D(pool_size=(2, 2)))\n",
        "\n",
        "model.add(Dropout(0.25))\n",
        "\n",
        "model.add(Flatten())\n",
        "model.add(Dense(160, activation='relu'))\n",
        "\n",
        "model.add(Dropout(0.5))\n",
        "model.add(Dense(6, activation='softmax'))\n"
      ],
      "execution_count": 0,
      "outputs": []
    },
    {
      "cell_type": "code",
      "metadata": {
        "id": "egLLdFj6PMHe",
        "colab_type": "code",
        "colab": {}
      },
      "source": [
        "model.compile(loss='categorical_crossentropy',optimizer='adam',metrics=['accuracy'])"
      ],
      "execution_count": 0,
      "outputs": []
    },
    {
      "cell_type": "code",
      "metadata": {
        "id": "OJlCJDt8pbkJ",
        "colab_type": "code",
        "colab": {
          "base_uri": "https://localhost:8080/",
          "height": 2855
        },
        "outputId": "1be2d878-9fc5-4f32-99a2-be6fc46ee17a"
      },
      "source": [
        "model.fit(X_train, y_train, epochs=75, validation_data=(X_test, y_test))"
      ],
      "execution_count": 12,
      "outputs": [
        {
          "output_type": "stream",
          "text": [
            "WARNING:tensorflow:From /usr/local/lib/python3.6/dist-packages/tensorflow/python/ops/math_ops.py:3066: to_int32 (from tensorflow.python.ops.math_ops) is deprecated and will be removed in a future version.\n",
            "Instructions for updating:\n",
            "Use tf.cast instead.\n",
            "Train on 5001 samples, validate on 1251 samples\n",
            "Epoch 1/75\n",
            "5001/5001 [==============================] - 19s 4ms/step - loss: 1.4950 - acc: 0.3709 - val_loss: 1.3119 - val_acc: 0.4468\n",
            "Epoch 2/75\n",
            "5001/5001 [==============================] - 14s 3ms/step - loss: 1.1855 - acc: 0.5043 - val_loss: 1.1770 - val_acc: 0.5212\n",
            "Epoch 3/75\n",
            "5001/5001 [==============================] - 14s 3ms/step - loss: 1.0171 - acc: 0.5837 - val_loss: 0.8997 - val_acc: 0.6571\n",
            "Epoch 4/75\n",
            "5001/5001 [==============================] - 14s 3ms/step - loss: 0.8483 - acc: 0.6577 - val_loss: 0.8483 - val_acc: 0.6882\n",
            "Epoch 5/75\n",
            "5001/5001 [==============================] - 14s 3ms/step - loss: 0.7359 - acc: 0.7045 - val_loss: 0.7603 - val_acc: 0.7058\n",
            "Epoch 6/75\n",
            "5001/5001 [==============================] - 14s 3ms/step - loss: 0.6495 - acc: 0.7373 - val_loss: 0.6763 - val_acc: 0.7426\n",
            "Epoch 7/75\n",
            "5001/5001 [==============================] - 14s 3ms/step - loss: 0.5750 - acc: 0.7740 - val_loss: 0.7105 - val_acc: 0.7234\n",
            "Epoch 8/75\n",
            "5001/5001 [==============================] - 14s 3ms/step - loss: 0.5266 - acc: 0.7940 - val_loss: 0.6526 - val_acc: 0.7418\n",
            "Epoch 9/75\n",
            "5001/5001 [==============================] - 14s 3ms/step - loss: 0.4634 - acc: 0.8120 - val_loss: 0.6647 - val_acc: 0.7490\n",
            "Epoch 10/75\n",
            "5001/5001 [==============================] - 14s 3ms/step - loss: 0.4389 - acc: 0.8292 - val_loss: 0.6981 - val_acc: 0.7354\n",
            "Epoch 11/75\n",
            "5001/5001 [==============================] - 14s 3ms/step - loss: 0.3848 - acc: 0.8478 - val_loss: 0.6590 - val_acc: 0.7634\n",
            "Epoch 12/75\n",
            "5001/5001 [==============================] - 14s 3ms/step - loss: 0.3496 - acc: 0.8614 - val_loss: 0.6094 - val_acc: 0.7674\n",
            "Epoch 13/75\n",
            "5001/5001 [==============================] - 14s 3ms/step - loss: 0.3117 - acc: 0.8774 - val_loss: 0.6642 - val_acc: 0.7618\n",
            "Epoch 14/75\n",
            "5001/5001 [==============================] - 14s 3ms/step - loss: 0.2825 - acc: 0.8850 - val_loss: 0.6346 - val_acc: 0.7826\n",
            "Epoch 15/75\n",
            "5001/5001 [==============================] - 14s 3ms/step - loss: 0.2603 - acc: 0.8962 - val_loss: 0.6621 - val_acc: 0.7858\n",
            "Epoch 16/75\n",
            "5001/5001 [==============================] - 14s 3ms/step - loss: 0.2425 - acc: 0.9100 - val_loss: 0.6325 - val_acc: 0.7890\n",
            "Epoch 17/75\n",
            "5001/5001 [==============================] - 14s 3ms/step - loss: 0.2095 - acc: 0.9202 - val_loss: 0.7101 - val_acc: 0.7898\n",
            "Epoch 18/75\n",
            "5001/5001 [==============================] - 14s 3ms/step - loss: 0.1894 - acc: 0.9304 - val_loss: 0.7069 - val_acc: 0.7746\n",
            "Epoch 19/75\n",
            "5001/5001 [==============================] - 14s 3ms/step - loss: 0.1929 - acc: 0.9262 - val_loss: 0.6559 - val_acc: 0.7850\n",
            "Epoch 20/75\n",
            "5001/5001 [==============================] - 14s 3ms/step - loss: 0.1730 - acc: 0.9362 - val_loss: 0.6924 - val_acc: 0.7874\n",
            "Epoch 21/75\n",
            "5001/5001 [==============================] - 14s 3ms/step - loss: 0.1728 - acc: 0.9342 - val_loss: 0.7353 - val_acc: 0.7858\n",
            "Epoch 22/75\n",
            "5001/5001 [==============================] - 14s 3ms/step - loss: 0.1614 - acc: 0.9422 - val_loss: 0.7111 - val_acc: 0.8010\n",
            "Epoch 23/75\n",
            "5001/5001 [==============================] - 14s 3ms/step - loss: 0.1501 - acc: 0.9416 - val_loss: 0.8121 - val_acc: 0.7890\n",
            "Epoch 24/75\n",
            "5001/5001 [==============================] - 14s 3ms/step - loss: 0.1365 - acc: 0.9514 - val_loss: 0.8113 - val_acc: 0.7874\n",
            "Epoch 25/75\n",
            "5001/5001 [==============================] - 14s 3ms/step - loss: 0.1343 - acc: 0.9520 - val_loss: 0.7265 - val_acc: 0.7906\n",
            "Epoch 26/75\n",
            "5001/5001 [==============================] - 14s 3ms/step - loss: 0.1168 - acc: 0.9582 - val_loss: 0.9321 - val_acc: 0.7746\n",
            "Epoch 27/75\n",
            "5001/5001 [==============================] - 14s 3ms/step - loss: 0.1160 - acc: 0.9594 - val_loss: 1.0194 - val_acc: 0.7602\n",
            "Epoch 28/75\n",
            "5001/5001 [==============================] - 14s 3ms/step - loss: 0.1447 - acc: 0.9516 - val_loss: 0.7922 - val_acc: 0.7906\n",
            "Epoch 29/75\n",
            "5001/5001 [==============================] - 14s 3ms/step - loss: 0.1014 - acc: 0.9616 - val_loss: 0.9648 - val_acc: 0.7818\n",
            "Epoch 30/75\n",
            "5001/5001 [==============================] - 14s 3ms/step - loss: 0.1030 - acc: 0.9640 - val_loss: 0.8268 - val_acc: 0.7890\n",
            "Epoch 31/75\n",
            "5001/5001 [==============================] - 14s 3ms/step - loss: 0.0985 - acc: 0.9630 - val_loss: 0.9255 - val_acc: 0.7962\n",
            "Epoch 32/75\n",
            "5001/5001 [==============================] - 14s 3ms/step - loss: 0.1136 - acc: 0.9622 - val_loss: 0.8601 - val_acc: 0.7842\n",
            "Epoch 33/75\n",
            "5001/5001 [==============================] - 14s 3ms/step - loss: 0.0857 - acc: 0.9702 - val_loss: 0.9394 - val_acc: 0.7906\n",
            "Epoch 34/75\n",
            "5001/5001 [==============================] - 14s 3ms/step - loss: 0.1051 - acc: 0.9618 - val_loss: 0.9268 - val_acc: 0.7938\n",
            "Epoch 35/75\n",
            "5001/5001 [==============================] - 14s 3ms/step - loss: 0.1238 - acc: 0.9568 - val_loss: 0.9414 - val_acc: 0.7954\n",
            "Epoch 36/75\n",
            "5001/5001 [==============================] - 14s 3ms/step - loss: 0.0752 - acc: 0.9734 - val_loss: 1.0448 - val_acc: 0.7698\n",
            "Epoch 37/75\n",
            "5001/5001 [==============================] - 14s 3ms/step - loss: 0.1108 - acc: 0.9602 - val_loss: 0.8976 - val_acc: 0.7930\n",
            "Epoch 38/75\n",
            "5001/5001 [==============================] - 14s 3ms/step - loss: 0.1217 - acc: 0.9564 - val_loss: 0.9242 - val_acc: 0.7922\n",
            "Epoch 39/75\n",
            "5001/5001 [==============================] - 14s 3ms/step - loss: 0.0878 - acc: 0.9680 - val_loss: 0.8554 - val_acc: 0.8002\n",
            "Epoch 40/75\n",
            "5001/5001 [==============================] - 14s 3ms/step - loss: 0.1003 - acc: 0.9660 - val_loss: 0.9483 - val_acc: 0.7842\n",
            "Epoch 41/75\n",
            "5001/5001 [==============================] - 14s 3ms/step - loss: 0.1034 - acc: 0.9666 - val_loss: 0.9106 - val_acc: 0.8002\n",
            "Epoch 42/75\n",
            "5001/5001 [==============================] - 14s 3ms/step - loss: 0.0803 - acc: 0.9726 - val_loss: 0.9229 - val_acc: 0.7986\n",
            "Epoch 43/75\n",
            "5001/5001 [==============================] - 14s 3ms/step - loss: 0.0869 - acc: 0.9700 - val_loss: 0.8714 - val_acc: 0.7970\n",
            "Epoch 44/75\n",
            "5001/5001 [==============================] - 14s 3ms/step - loss: 0.0721 - acc: 0.9782 - val_loss: 0.8615 - val_acc: 0.8010\n",
            "Epoch 45/75\n",
            "5001/5001 [==============================] - 14s 3ms/step - loss: 0.0736 - acc: 0.9738 - val_loss: 1.0563 - val_acc: 0.7826\n",
            "Epoch 46/75\n",
            "5001/5001 [==============================] - 14s 3ms/step - loss: 0.0805 - acc: 0.9724 - val_loss: 1.1649 - val_acc: 0.7826\n",
            "Epoch 47/75\n",
            "5001/5001 [==============================] - 14s 3ms/step - loss: 0.0606 - acc: 0.9794 - val_loss: 0.9950 - val_acc: 0.8034\n",
            "Epoch 48/75\n",
            "5001/5001 [==============================] - 14s 3ms/step - loss: 0.0817 - acc: 0.9714 - val_loss: 1.0107 - val_acc: 0.7818\n",
            "Epoch 49/75\n",
            "5001/5001 [==============================] - 14s 3ms/step - loss: 0.0871 - acc: 0.9710 - val_loss: 1.0132 - val_acc: 0.7922\n",
            "Epoch 50/75\n",
            "5001/5001 [==============================] - 14s 3ms/step - loss: 0.0896 - acc: 0.9704 - val_loss: 0.9946 - val_acc: 0.7922\n",
            "Epoch 51/75\n",
            "5001/5001 [==============================] - 14s 3ms/step - loss: 0.0615 - acc: 0.9758 - val_loss: 1.0562 - val_acc: 0.7850\n",
            "Epoch 52/75\n",
            "5001/5001 [==============================] - 14s 3ms/step - loss: 0.0701 - acc: 0.9754 - val_loss: 0.9756 - val_acc: 0.7922\n",
            "Epoch 53/75\n",
            "5001/5001 [==============================] - 14s 3ms/step - loss: 0.0621 - acc: 0.9756 - val_loss: 1.0062 - val_acc: 0.8002\n",
            "Epoch 54/75\n",
            "5001/5001 [==============================] - 14s 3ms/step - loss: 0.0654 - acc: 0.9772 - val_loss: 1.0007 - val_acc: 0.7874\n",
            "Epoch 55/75\n",
            "5001/5001 [==============================] - 14s 3ms/step - loss: 0.0645 - acc: 0.9768 - val_loss: 1.0551 - val_acc: 0.8002\n",
            "Epoch 56/75\n",
            "5001/5001 [==============================] - 14s 3ms/step - loss: 0.0685 - acc: 0.9790 - val_loss: 1.0868 - val_acc: 0.8018\n",
            "Epoch 57/75\n",
            "5001/5001 [==============================] - 14s 3ms/step - loss: 0.0703 - acc: 0.9786 - val_loss: 0.9806 - val_acc: 0.7898\n",
            "Epoch 58/75\n",
            "5001/5001 [==============================] - 14s 3ms/step - loss: 0.0618 - acc: 0.9774 - val_loss: 1.0922 - val_acc: 0.7826\n",
            "Epoch 59/75\n",
            "5001/5001 [==============================] - 14s 3ms/step - loss: 0.0721 - acc: 0.9754 - val_loss: 1.0956 - val_acc: 0.7754\n",
            "Epoch 60/75\n",
            "5001/5001 [==============================] - 14s 3ms/step - loss: 0.0858 - acc: 0.9730 - val_loss: 1.0310 - val_acc: 0.7858\n",
            "Epoch 61/75\n",
            "5001/5001 [==============================] - 14s 3ms/step - loss: 0.0623 - acc: 0.9810 - val_loss: 1.0031 - val_acc: 0.7770\n",
            "Epoch 62/75\n",
            "5001/5001 [==============================] - 14s 3ms/step - loss: 0.0753 - acc: 0.9764 - val_loss: 0.9898 - val_acc: 0.7930\n",
            "Epoch 63/75\n",
            "5001/5001 [==============================] - 14s 3ms/step - loss: 0.0765 - acc: 0.9752 - val_loss: 0.9784 - val_acc: 0.7890\n",
            "Epoch 64/75\n",
            "5001/5001 [==============================] - 14s 3ms/step - loss: 0.0660 - acc: 0.9782 - val_loss: 1.0672 - val_acc: 0.7770\n",
            "Epoch 65/75\n",
            "5001/5001 [==============================] - 14s 3ms/step - loss: 0.0543 - acc: 0.9814 - val_loss: 1.1130 - val_acc: 0.7922\n",
            "Epoch 66/75\n",
            "5001/5001 [==============================] - 14s 3ms/step - loss: 0.0671 - acc: 0.9772 - val_loss: 1.0357 - val_acc: 0.7874\n",
            "Epoch 67/75\n",
            "5001/5001 [==============================] - 14s 3ms/step - loss: 0.0527 - acc: 0.9822 - val_loss: 1.0044 - val_acc: 0.7834\n",
            "Epoch 68/75\n",
            "5001/5001 [==============================] - 14s 3ms/step - loss: 0.0628 - acc: 0.9800 - val_loss: 1.1505 - val_acc: 0.7866\n",
            "Epoch 69/75\n",
            "5001/5001 [==============================] - 14s 3ms/step - loss: 0.0537 - acc: 0.9804 - val_loss: 1.2395 - val_acc: 0.7826\n",
            "Epoch 70/75\n",
            "5001/5001 [==============================] - 14s 3ms/step - loss: 0.0563 - acc: 0.9802 - val_loss: 1.1127 - val_acc: 0.7842\n",
            "Epoch 71/75\n",
            "5001/5001 [==============================] - 14s 3ms/step - loss: 0.0848 - acc: 0.9736 - val_loss: 1.0597 - val_acc: 0.7938\n",
            "Epoch 72/75\n",
            "5001/5001 [==============================] - 14s 3ms/step - loss: 0.0729 - acc: 0.9760 - val_loss: 1.1153 - val_acc: 0.7722\n",
            "Epoch 73/75\n",
            "5001/5001 [==============================] - 14s 3ms/step - loss: 0.0615 - acc: 0.9800 - val_loss: 1.0520 - val_acc: 0.8002\n",
            "Epoch 74/75\n",
            "5001/5001 [==============================] - 14s 3ms/step - loss: 0.0713 - acc: 0.9778 - val_loss: 1.0233 - val_acc: 0.7986\n",
            "Epoch 75/75\n",
            "5001/5001 [==============================] - 14s 3ms/step - loss: 0.0504 - acc: 0.9830 - val_loss: 1.1634 - val_acc: 0.7930\n"
          ],
          "name": "stdout"
        },
        {
          "output_type": "execute_result",
          "data": {
            "text/plain": [
              "<keras.callbacks.History at 0x7fe800997f98>"
            ]
          },
          "metadata": {
            "tags": []
          },
          "execution_count": 12
        }
      ]
    },
    {
      "cell_type": "code",
      "metadata": {
        "id": "Sk6WWGCLWNnb",
        "colab_type": "code",
        "colab": {}
      },
      "source": [
        "# making predictions\n",
        "prediction = model.predict_classes(test)"
      ],
      "execution_count": 0,
      "outputs": []
    },
    {
      "cell_type": "code",
      "metadata": {
        "id": "Y4DxohQfPOPw",
        "colab_type": "code",
        "colab": {}
      },
      "source": [
        "test1['category']=prediction"
      ],
      "execution_count": 0,
      "outputs": []
    },
    {
      "cell_type": "code",
      "metadata": {
        "id": "-rUtKPgOXGCj",
        "colab_type": "code",
        "colab": {}
      },
      "source": [
        "# [SUBMISSION] file preparation\n",
        "test1.to_csv('Sub6.csv',index=False)"
      ],
      "execution_count": 0,
      "outputs": []
    }
  ]
}